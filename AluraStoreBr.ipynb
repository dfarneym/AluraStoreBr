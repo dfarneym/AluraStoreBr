{
  "cells": [
    {
      "cell_type": "markdown",
      "metadata": {
        "id": "RhEdWd9YUR6H"
      },
      "source": [
        "### Importação dos dados\n",
        "\n"
      ]
    },
    {
      "cell_type": "code",
      "execution_count": 1,
      "metadata": {
        "colab": {
          "base_uri": "https://localhost:8080/",
          "height": 476
        },
        "id": "T3EvaeQ_INIL",
        "outputId": "c7a80252-4e47-4ab8-9389-b3755e24bf41"
      },
      "outputs": [
        {
          "data": {
            "text/html": [
              "<div>\n",
              "<style scoped>\n",
              "    .dataframe tbody tr th:only-of-type {\n",
              "        vertical-align: middle;\n",
              "    }\n",
              "\n",
              "    .dataframe tbody tr th {\n",
              "        vertical-align: top;\n",
              "    }\n",
              "\n",
              "    .dataframe thead th {\n",
              "        text-align: right;\n",
              "    }\n",
              "</style>\n",
              "<table border=\"1\" class=\"dataframe\">\n",
              "  <thead>\n",
              "    <tr style=\"text-align: right;\">\n",
              "      <th></th>\n",
              "      <th>Produto</th>\n",
              "      <th>Categoria do Produto</th>\n",
              "      <th>Preço</th>\n",
              "      <th>Frete</th>\n",
              "      <th>Data da Compra</th>\n",
              "      <th>Vendedor</th>\n",
              "      <th>Local da compra</th>\n",
              "      <th>Avaliação da compra</th>\n",
              "      <th>Tipo de pagamento</th>\n",
              "      <th>Quantidade de parcelas</th>\n",
              "      <th>lat</th>\n",
              "      <th>lon</th>\n",
              "    </tr>\n",
              "  </thead>\n",
              "  <tbody>\n",
              "    <tr>\n",
              "      <th>0</th>\n",
              "      <td>Assistente virtual</td>\n",
              "      <td>eletronicos</td>\n",
              "      <td>219.08</td>\n",
              "      <td>9.249790</td>\n",
              "      <td>16/01/2021</td>\n",
              "      <td>Pedro Gomes</td>\n",
              "      <td>SP</td>\n",
              "      <td>4</td>\n",
              "      <td>cartao_credito</td>\n",
              "      <td>8</td>\n",
              "      <td>-22.19</td>\n",
              "      <td>-48.79</td>\n",
              "    </tr>\n",
              "    <tr>\n",
              "      <th>1</th>\n",
              "      <td>Mesa de jantar</td>\n",
              "      <td>moveis</td>\n",
              "      <td>256.35</td>\n",
              "      <td>11.234305</td>\n",
              "      <td>18/05/2022</td>\n",
              "      <td>Beatriz Moraes</td>\n",
              "      <td>RJ</td>\n",
              "      <td>1</td>\n",
              "      <td>cartao_credito</td>\n",
              "      <td>4</td>\n",
              "      <td>-22.25</td>\n",
              "      <td>-42.66</td>\n",
              "    </tr>\n",
              "    <tr>\n",
              "      <th>2</th>\n",
              "      <td>Jogo de tabuleiro</td>\n",
              "      <td>brinquedos</td>\n",
              "      <td>279.51</td>\n",
              "      <td>21.262681</td>\n",
              "      <td>15/03/2021</td>\n",
              "      <td>João Souza</td>\n",
              "      <td>DF</td>\n",
              "      <td>1</td>\n",
              "      <td>cartao_credito</td>\n",
              "      <td>1</td>\n",
              "      <td>-15.83</td>\n",
              "      <td>-47.86</td>\n",
              "    </tr>\n",
              "    <tr>\n",
              "      <th>3</th>\n",
              "      <td>Micro-ondas</td>\n",
              "      <td>eletrodomesticos</td>\n",
              "      <td>1009.99</td>\n",
              "      <td>54.667344</td>\n",
              "      <td>03/05/2022</td>\n",
              "      <td>João Souza</td>\n",
              "      <td>RS</td>\n",
              "      <td>4</td>\n",
              "      <td>boleto</td>\n",
              "      <td>1</td>\n",
              "      <td>-30.17</td>\n",
              "      <td>-53.50</td>\n",
              "    </tr>\n",
              "    <tr>\n",
              "      <th>4</th>\n",
              "      <td>Cadeira de escritório</td>\n",
              "      <td>moveis</td>\n",
              "      <td>446.99</td>\n",
              "      <td>26.964689</td>\n",
              "      <td>07/11/2020</td>\n",
              "      <td>Larissa Alves</td>\n",
              "      <td>MG</td>\n",
              "      <td>5</td>\n",
              "      <td>boleto</td>\n",
              "      <td>1</td>\n",
              "      <td>-18.10</td>\n",
              "      <td>-44.38</td>\n",
              "    </tr>\n",
              "    <tr>\n",
              "      <th>...</th>\n",
              "      <td>...</td>\n",
              "      <td>...</td>\n",
              "      <td>...</td>\n",
              "      <td>...</td>\n",
              "      <td>...</td>\n",
              "      <td>...</td>\n",
              "      <td>...</td>\n",
              "      <td>...</td>\n",
              "      <td>...</td>\n",
              "      <td>...</td>\n",
              "      <td>...</td>\n",
              "      <td>...</td>\n",
              "    </tr>\n",
              "    <tr>\n",
              "      <th>2353</th>\n",
              "      <td>Faqueiro</td>\n",
              "      <td>utilidades domesticas</td>\n",
              "      <td>53.95</td>\n",
              "      <td>0.000000</td>\n",
              "      <td>30/12/2022</td>\n",
              "      <td>Lucas Oliveira</td>\n",
              "      <td>SP</td>\n",
              "      <td>5</td>\n",
              "      <td>cartao_credito</td>\n",
              "      <td>1</td>\n",
              "      <td>-22.19</td>\n",
              "      <td>-48.79</td>\n",
              "    </tr>\n",
              "    <tr>\n",
              "      <th>2354</th>\n",
              "      <td>Celular Plus X42</td>\n",
              "      <td>eletronicos</td>\n",
              "      <td>1712.54</td>\n",
              "      <td>88.772042</td>\n",
              "      <td>15/11/2021</td>\n",
              "      <td>Thiago Silva</td>\n",
              "      <td>RJ</td>\n",
              "      <td>1</td>\n",
              "      <td>boleto</td>\n",
              "      <td>1</td>\n",
              "      <td>-22.25</td>\n",
              "      <td>-42.66</td>\n",
              "    </tr>\n",
              "    <tr>\n",
              "      <th>2355</th>\n",
              "      <td>Impressora</td>\n",
              "      <td>eletronicos</td>\n",
              "      <td>377.02</td>\n",
              "      <td>20.363958</td>\n",
              "      <td>18/03/2023</td>\n",
              "      <td>Lucas Oliveira</td>\n",
              "      <td>SP</td>\n",
              "      <td>5</td>\n",
              "      <td>boleto</td>\n",
              "      <td>1</td>\n",
              "      <td>-22.19</td>\n",
              "      <td>-48.79</td>\n",
              "    </tr>\n",
              "    <tr>\n",
              "      <th>2356</th>\n",
              "      <td>Jogo de tabuleiro</td>\n",
              "      <td>brinquedos</td>\n",
              "      <td>163.82</td>\n",
              "      <td>9.611337</td>\n",
              "      <td>06/07/2021</td>\n",
              "      <td>Lucas Oliveira</td>\n",
              "      <td>PR</td>\n",
              "      <td>5</td>\n",
              "      <td>cartao_credito</td>\n",
              "      <td>4</td>\n",
              "      <td>-24.89</td>\n",
              "      <td>-51.55</td>\n",
              "    </tr>\n",
              "    <tr>\n",
              "      <th>2357</th>\n",
              "      <td>Cama box</td>\n",
              "      <td>moveis</td>\n",
              "      <td>921.77</td>\n",
              "      <td>46.665919</td>\n",
              "      <td>02/05/2022</td>\n",
              "      <td>Pedro Gomes</td>\n",
              "      <td>RN</td>\n",
              "      <td>1</td>\n",
              "      <td>cartao_credito</td>\n",
              "      <td>2</td>\n",
              "      <td>-5.81</td>\n",
              "      <td>-36.59</td>\n",
              "    </tr>\n",
              "  </tbody>\n",
              "</table>\n",
              "<p>2358 rows × 12 columns</p>\n",
              "</div>"
            ],
            "text/plain": [
              "                    Produto   Categoria do Produto    Preço      Frete  \\\n",
              "0        Assistente virtual            eletronicos   219.08   9.249790   \n",
              "1            Mesa de jantar                 moveis   256.35  11.234305   \n",
              "2         Jogo de tabuleiro             brinquedos   279.51  21.262681   \n",
              "3               Micro-ondas       eletrodomesticos  1009.99  54.667344   \n",
              "4     Cadeira de escritório                 moveis   446.99  26.964689   \n",
              "...                     ...                    ...      ...        ...   \n",
              "2353               Faqueiro  utilidades domesticas    53.95   0.000000   \n",
              "2354       Celular Plus X42            eletronicos  1712.54  88.772042   \n",
              "2355             Impressora            eletronicos   377.02  20.363958   \n",
              "2356      Jogo de tabuleiro             brinquedos   163.82   9.611337   \n",
              "2357               Cama box                 moveis   921.77  46.665919   \n",
              "\n",
              "     Data da Compra        Vendedor Local da compra  Avaliação da compra  \\\n",
              "0        16/01/2021     Pedro Gomes              SP                    4   \n",
              "1        18/05/2022  Beatriz Moraes              RJ                    1   \n",
              "2        15/03/2021      João Souza              DF                    1   \n",
              "3        03/05/2022      João Souza              RS                    4   \n",
              "4        07/11/2020   Larissa Alves              MG                    5   \n",
              "...             ...             ...             ...                  ...   \n",
              "2353     30/12/2022  Lucas Oliveira              SP                    5   \n",
              "2354     15/11/2021    Thiago Silva              RJ                    1   \n",
              "2355     18/03/2023  Lucas Oliveira              SP                    5   \n",
              "2356     06/07/2021  Lucas Oliveira              PR                    5   \n",
              "2357     02/05/2022     Pedro Gomes              RN                    1   \n",
              "\n",
              "     Tipo de pagamento  Quantidade de parcelas    lat    lon  \n",
              "0       cartao_credito                       8 -22.19 -48.79  \n",
              "1       cartao_credito                       4 -22.25 -42.66  \n",
              "2       cartao_credito                       1 -15.83 -47.86  \n",
              "3               boleto                       1 -30.17 -53.50  \n",
              "4               boleto                       1 -18.10 -44.38  \n",
              "...                ...                     ...    ...    ...  \n",
              "2353    cartao_credito                       1 -22.19 -48.79  \n",
              "2354            boleto                       1 -22.25 -42.66  \n",
              "2355            boleto                       1 -22.19 -48.79  \n",
              "2356    cartao_credito                       4 -24.89 -51.55  \n",
              "2357    cartao_credito                       2  -5.81 -36.59  \n",
              "\n",
              "[2358 rows x 12 columns]"
            ]
          },
          "execution_count": 1,
          "metadata": {},
          "output_type": "execute_result"
        }
      ],
      "source": [
        "import pandas as pd\n",
        "\n",
        "url = \"https://raw.githubusercontent.com/alura-es-cursos/challenge1-data-science/refs/heads/main/base-de-dados-challenge-1/loja_1.csv\"\n",
        "url2 = \"https://raw.githubusercontent.com/alura-es-cursos/challenge1-data-science/refs/heads/main/base-de-dados-challenge-1/loja_2.csv\"\n",
        "url3 = \"https://raw.githubusercontent.com/alura-es-cursos/challenge1-data-science/refs/heads/main/base-de-dados-challenge-1/loja_3.csv\"\n",
        "url4 = \"https://raw.githubusercontent.com/alura-es-cursos/challenge1-data-science/refs/heads/main/base-de-dados-challenge-1/loja_4.csv\"\n",
        "\n",
        "loja = pd.read_csv(url)\n",
        "loja2 = pd.read_csv(url2)\n",
        "loja3 = pd.read_csv(url3)\n",
        "loja4 = pd.read_csv(url4)\n",
        "\n",
        "loja.head(-1)"
      ]
    },
    {
      "cell_type": "code",
      "execution_count": 2,
      "metadata": {},
      "outputs": [],
      "source": [
        "# Enumerando as lojas\n",
        "loja1 = pd.read_csv(url)\n",
        "loja2 = pd.read_csv(url2)\n",
        "loja3 = pd.read_csv(url3)\n",
        "loja4 = pd.read_csv(url4)"
      ]
    },
    {
      "cell_type": "markdown",
      "metadata": {
        "id": "X62IW3KFUIYm"
      },
      "source": [
        "# 1. Análise do faturamento\n"
      ]
    },
    {
      "cell_type": "code",
      "execution_count": 4,
      "metadata": {
        "id": "cE66dQY7ZFOF"
      },
      "outputs": [
        {
          "data": {
            "image/png": "[encoded data removed]",
            "text/plain": [
              "<Figure size 1200x600 with 1 Axes>"
            ]
          },
          "metadata": {},
          "output_type": "display_data"
        }
      ],
      "source": [
        "import matplotlib.pyplot as plt\n",
        "\n",
        "# Definindo as listas\n",
        "lojas = [loja1, loja2, loja3, loja4]  \n",
        "faturamentos_lista = []\n",
        "\n",
        "# Calcular o faturamento total de cada loja presente na lista \n",
        "faturamentos_dict_loop = {}\n",
        "for i, loja in enumerate(lojas):\n",
        "    faturamentos_dict_loop[f'Loja {i+1}'] = loja['Preço'].sum() \n",
        "\n",
        "# Extrair os nomes das lojas e os faturamentos do dicionário\n",
        "nomes_lojas = list(faturamentos_dict_loop.keys())\n",
        "faturamentos = list(faturamentos_dict_loop.values())\n",
        "\n",
        "# Criar o gráfico de barras\n",
        "plt.figure(figsize=(12, 6))\n",
        "plt.bar(nomes_lojas, faturamentos, color=['green','orange','red','green']) \n",
        "plt.xlabel('Lojas')\n",
        "plt.ylabel('Faturamento')\n",
        "plt.title('Faturamento Individual por Loja')\n",
        "\n",
        "# Mostrar o gráfico\n",
        "plt.show()\n"
      ]
    },
    {
      "cell_type": "markdown",
      "metadata": {
        "id": "2V_vcAPzWZmR"
      },
      "source": [
        "# 2. Vendas por Categoria\n"
      ]
    },
    {
      "cell_type": "code",
      "execution_count": null,
      "metadata": {
        "id": "A34YupIuYhfF"
      },
      "outputs": [],
      "source": []
    },
    {
      "cell_type": "code",
      "execution_count": null,
      "metadata": {
        "id": "yZR6cOjXYSk1"
      },
      "outputs": [],
      "source": []
    },
    {
      "cell_type": "markdown",
      "metadata": {
        "id": "Rq6tU_xSY3jk"
      },
      "source": [
        "# 3. Média de Avaliação das Lojas"
      ]
    },
    {
      "cell_type": "code",
      "execution_count": null,
      "metadata": {
        "id": "bh3jjjJwY5MU"
      },
      "outputs": [],
      "source": []
    },
    {
      "cell_type": "code",
      "execution_count": null,
      "metadata": {
        "id": "I0KkjPoTY88F"
      },
      "outputs": [],
      "source": []
    },
    {
      "cell_type": "markdown",
      "metadata": {
        "id": "DmNp1KPBZCm-"
      },
      "source": [
        "# 4. Produtos Mais e Menos Vendidos"
      ]
    },
    {
      "cell_type": "code",
      "execution_count": null,
      "metadata": {
        "id": "qoyjqijQZHfF"
      },
      "outputs": [],
      "source": []
    },
    {
      "cell_type": "code",
      "execution_count": null,
      "metadata": {
        "id": "0Sw3sd4IZIGW"
      },
      "outputs": [],
      "source": []
    },
    {
      "cell_type": "markdown",
      "metadata": {
        "id": "Fl0cGi3bZKqU"
      },
      "source": [
        "# 5. Frete Médio por Loja\n"
      ]
    },
    {
      "cell_type": "code",
      "execution_count": null,
      "metadata": {
        "id": "S2JeaCykZNy9"
      },
      "outputs": [],
      "source": []
    },
    {
      "cell_type": "code",
      "execution_count": null,
      "metadata": {
        "id": "0tSdCie9ZQlt"
      },
      "outputs": [],
      "source": []
    }
  ],
  "metadata": {
    "colab": {
      "provenance": []
    },
    "kernelspec": {
      "display_name": "Python 3",
      "name": "python3"
    },
    "language_info": {
      "codemirror_mode": {
        "name": "ipython",
        "version": 3
      },
      "file_extension": ".py",
      "mimetype": "text/x-python",
      "name": "python",
      "nbconvert_exporter": "python",
      "pygments_lexer": "ipython3",
      "version": "3.12.0"
    }
  },
  "nbformat": 4,
  "nbformat_minor": 0
}
